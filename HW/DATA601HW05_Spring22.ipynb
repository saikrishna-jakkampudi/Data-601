{
  "nbformat": 4,
  "nbformat_minor": 0,
  "metadata": {
    "colab": {
      "name": "DATA601HW05_Spring22.ipynb",
      "provenance": [],
      "authorship_tag": "ABX9TyMc3SY5u3MO5Dx196pF9Aqg",
      "include_colab_link": true
    },
    "kernelspec": {
      "name": "python3",
      "display_name": "Python 3"
    },
    "language_info": {
      "name": "python"
    }
  },
  "cells": [
    {
      "cell_type": "markdown",
      "metadata": {
        "id": "view-in-github",
        "colab_type": "text"
      },
      "source": [
        "<a href=\"https://colab.research.google.com/github/simsekergun/DATA601/blob/main/HW/DATA601HW05_Spring22.ipynb\" target=\"_parent\"><img src=\"https://colab.research.google.com/assets/colab-badge.svg\" alt=\"Open In Colab\"/></a>"
      ]
    },
    {
      "cell_type": "markdown",
      "source": [
        "# Homework 5\n",
        "Due Date: 04/21/2022, 11:59 pm\n",
        "\n",
        "Please use the cell below, get the \"American National Election Studies of 1996\" dataset, then the answer the questions below."
      ],
      "metadata": {
        "id": "EkWJ0lR6bxoQ"
      }
    },
    {
      "cell_type": "code",
      "execution_count": null,
      "metadata": {
        "colab": {
          "base_uri": "https://localhost:8080/"
        },
        "id": "Wy8vQgWLWM9j",
        "outputId": "029c6e15-0fbd-478c-b2da-905dc07948b1"
      },
      "outputs": [
        {
          "output_type": "stream",
          "name": "stdout",
          "text": [
            "This data is a subset of the American National Election Studies of 1996.\n"
          ]
        }
      ],
      "source": [
        "import pandas as pd\n",
        "import numpy as np\n",
        "import statsmodels.api as sm\n",
        "anes96 = sm.datasets.anes96\n",
        "df = anes96.load_pandas().data"
      ]
    },
    {
      "cell_type": "markdown",
      "source": [
        "### Questions/Tasks\n",
        "1. After loading data as a dataframe, carry out a typical EDA (check the shape, data types, min/max values, etc.)\n",
        "2. Visualize the histogram of all features and the correlation matrix.\n",
        "\n",
        "3. Use hypothesis testing methods and which ones of these have an affect on people's votes (0: Clinton, 1:Dole) <br>\n",
        " a. Population  <br>\n",
        " b. TVnews <br>\n",
        " c. Age <br>\n",
        " d. Education <br>\n",
        " e. Income <br>\n",
        "\n",
        "4. Use Chi-square test of independence and answer the following quesion: If we assume that people who make less than $50k a year are poor, can we say that poor people favor one candidate over another?\n",
        "\n",
        "5. Use Fisher's exact test and answer the following quesion: If we assume that people who are under 40 years are young, can we say that young people favor one candidate over another?\n",
        "\n",
        "6. Use Welch's t-test and answer the following question: is there a difference in votes between people with a higher education degree (college, MS, or PhD) and without a higher education degree"
      ],
      "metadata": {
        "id": "UktCP9l_X72p"
      }
    },
    {
      "cell_type": "code",
      "source": [
        ""
      ],
      "metadata": {
        "id": "BfyP-dRVbwKL"
      },
      "execution_count": null,
      "outputs": []
    }
  ]
}