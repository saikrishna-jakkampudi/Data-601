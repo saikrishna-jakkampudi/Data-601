{
  "nbformat": 4,
  "nbformat_minor": 0,
  "metadata": {
    "colab": {
      "name": "DATA601_Python_Exercises1_Solutions.ipynb",
      "provenance": [],
      "collapsed_sections": [],
      "include_colab_link": true
    },
    "kernelspec": {
      "name": "python3",
      "display_name": "Python 3"
    },
    "language_info": {
      "name": "python"
    }
  },
  "cells": [
    {
      "cell_type": "markdown",
      "metadata": {
        "id": "view-in-github",
        "colab_type": "text"
      },
      "source": [
        "<a href=\"https://colab.research.google.com/github/simsekergun/DATA601/blob/main/Exercises/DATA601_Python_Exercises1_Solutions.ipynb\" target=\"_parent\"><img src=\"https://colab.research.google.com/assets/colab-badge.svg\" alt=\"Open In Colab\"/></a>"
      ]
    },
    {
      "cell_type": "markdown",
      "source": [
        "# **Python Exercises-1**\n"
      ],
      "metadata": {
        "id": "vsjY3P0jxQHp"
      }
    },
    {
      "cell_type": "markdown",
      "source": [
        "**Hello There!**\n",
        "\n",
        "Congratulations on deciding to be a part of Data revolution. This marks your first step towards your journey of becoming a Data Scientist.\n",
        "\n",
        "To become a full fledged Data Scientist, you must equip yourself with important skillset that will help you manipulate the data, retrieve insights and make machine learning models that will make as accurate predictions as possible.\n",
        "\n",
        "One of the most crucial skills in this domain is in-depth knowledge of programming and Python is one of the hottest tools out there.\n",
        "\n",
        "So let's embark on the journey of becoming a Python Hotshot!!! "
      ],
      "metadata": {
        "id": "yfxhBdgHGIDz"
      }
    },
    {
      "cell_type": "markdown",
      "source": [
        "## **PART-1**\n",
        "\n",
        "Why don't we warm up a little first?"
      ],
      "metadata": {
        "id": "zkS5z663IEDy"
      }
    },
    {
      "cell_type": "markdown",
      "source": [
        "**Question-1:**\n",
        "\n",
        "Write a Python program to get the Python version you are using. (1)"
      ],
      "metadata": {
        "id": "mlBrQiPPP5Fx"
      }
    },
    {
      "cell_type": "markdown",
      "source": [
        "**Code:**"
      ],
      "metadata": {
        "id": "KaCws-4BQIEs"
      }
    },
    {
      "cell_type": "code",
      "source": [
        "import sys\n",
        "print(\"Python version\")\n",
        "print (sys.version)\n",
        "print(\"Version info.\")\n",
        "print (sys.version_info)"
      ],
      "metadata": {
        "id": "gL7fbzNyQUgB",
        "colab": {
          "base_uri": "https://localhost:8080/"
        },
        "outputId": "713fe2f4-5172-4a58-88a5-c9fd49a95641"
      },
      "execution_count": null,
      "outputs": [
        {
          "output_type": "stream",
          "name": "stdout",
          "text": [
            "Python version\n",
            "3.7.12 (default, Jan 15 2022, 18:48:18) \n",
            "[GCC 7.5.0]\n",
            "Version info.\n",
            "sys.version_info(major=3, minor=7, micro=12, releaselevel='final', serial=0)\n"
          ]
        }
      ]
    },
    {
      "cell_type": "markdown",
      "source": [
        "**Question-2:**\n",
        "\n",
        "Write a Python program to display the current date and time. (1)\n"
      ],
      "metadata": {
        "id": "K7qiaQbrQZdv"
      }
    },
    {
      "cell_type": "markdown",
      "source": [
        "**Code:**"
      ],
      "metadata": {
        "id": "gB0Voc50QiB0"
      }
    },
    {
      "cell_type": "code",
      "source": [
        "import datetime\n",
        "now = datetime.datetime.now()\n",
        "print (\"Current date and time : \")\n",
        "print (now.strftime(\"%Y-%m-%d %H:%M:%S\"))"
      ],
      "metadata": {
        "id": "f-Xxv3lWQjym",
        "colab": {
          "base_uri": "https://localhost:8080/"
        },
        "outputId": "45f46131-935f-41fc-cc72-ae0976fb14bd"
      },
      "execution_count": null,
      "outputs": [
        {
          "output_type": "stream",
          "name": "stdout",
          "text": [
            "Current date and time : \n",
            "2022-02-12 17:43:34\n"
          ]
        }
      ]
    },
    {
      "cell_type": "markdown",
      "source": [
        "**Question-3:**\n",
        "\n",
        "Write a Python program which accepts a sequence of comma-separated numbers from user and generate a list and a tuple with those numbers. (1)\n"
      ],
      "metadata": {
        "id": "2NCySLlqQnPl"
      }
    },
    {
      "cell_type": "markdown",
      "source": [
        "**Code:**"
      ],
      "metadata": {
        "id": "CbINOmtJQtSU"
      }
    },
    {
      "cell_type": "code",
      "source": [
        "values = input(\"Input some comma seprated numbers : \")\n",
        "list1 = values.split(\",\")\n",
        "tuple1 = tuple(list1)\n",
        "print('List : ',list1)\n",
        "print('Tuple : ',tuple1)"
      ],
      "metadata": {
        "id": "IQwOibMsQv7B",
        "colab": {
          "base_uri": "https://localhost:8080/"
        },
        "outputId": "d5ce472f-b022-4ef3-84cb-9941bf583a9c"
      },
      "execution_count": null,
      "outputs": [
        {
          "output_type": "stream",
          "name": "stdout",
          "text": [
            "Input some comma seprated numbers : 3,3,5,7,0\n",
            "List :  ['3', '3', '5', '7', '0']\n",
            "Tuple :  ('3', '3', '5', '7', '0')\n"
          ]
        }
      ]
    },
    {
      "cell_type": "markdown",
      "source": [
        "**Question-4:**\n",
        "\n",
        "Write a Python program to display the first and last colors from the following list:\n",
        "\n",
        "[\"Red\",\"Green\",\"White\" ,\"Black\"] \n",
        "\n",
        "(1)"
      ],
      "metadata": {
        "id": "QJzkQViORBih"
      }
    },
    {
      "cell_type": "markdown",
      "source": [
        "**Code**"
      ],
      "metadata": {
        "id": "IMJ4oZINRZej"
      }
    },
    {
      "cell_type": "code",
      "source": [
        "color_list = [\"Red\",\"Green\",\"White\" ,\"Black\"]\n",
        "print( \"%s %s\"%(color_list[0],color_list[-1]))"
      ],
      "metadata": {
        "id": "tq95mrXjRdAa",
        "colab": {
          "base_uri": "https://localhost:8080/"
        },
        "outputId": "7693b607-5e0e-40e1-ddff-fe16f6c8e452"
      },
      "execution_count": null,
      "outputs": [
        {
          "output_type": "stream",
          "name": "stdout",
          "text": [
            "Red Black\n"
          ]
        }
      ]
    },
    {
      "cell_type": "markdown",
      "source": [
        "**Question-5:**\n",
        "\n",
        "Write a Python program that accepts an integer (n) and computes the value of n+nn+nnn. (1)"
      ],
      "metadata": {
        "id": "dpQT-7sERimU"
      }
    },
    {
      "cell_type": "markdown",
      "source": [
        "**Code**"
      ],
      "metadata": {
        "id": "GdIlmMHuRpVY"
      }
    },
    {
      "cell_type": "code",
      "source": [
        "a = int(input(\"Input an integer : \"))\n",
        "n1 = int( \"%s\" % a )\n",
        "n2 = int( \"%s%s\" % (a,a) )\n",
        "n3 = int( \"%s%s%s\" % (a,a,a) )\n",
        "print (n1+n2+n3)"
      ],
      "metadata": {
        "id": "MyPVVgozRryy",
        "colab": {
          "base_uri": "https://localhost:8080/"
        },
        "outputId": "8cfe7dd6-ddcd-4725-99a8-df0c7cc703c7"
      },
      "execution_count": null,
      "outputs": [
        {
          "output_type": "stream",
          "name": "stdout",
          "text": [
            "Input an integer : 5\n",
            "615\n"
          ]
        }
      ]
    },
    {
      "cell_type": "markdown",
      "source": [
        "**Question-6:**\n",
        "\n",
        "Write a Python program to print the documents (syntax, description etc.) of Python built-in function(s). (1)\n",
        "\n",
        "Sample function: abs()"
      ],
      "metadata": {
        "id": "7jrv_lk-RvnY"
      }
    },
    {
      "cell_type": "markdown",
      "source": [
        "**Code**"
      ],
      "metadata": {
        "id": "1qNnodB3R3kv"
      }
    },
    {
      "cell_type": "code",
      "source": [
        "print(abs.__doc__)"
      ],
      "metadata": {
        "id": "GQrkYIj0R5KE",
        "colab": {
          "base_uri": "https://localhost:8080/"
        },
        "outputId": "5a4592ad-6d8e-435d-ba7f-d4ab5eb96fb8"
      },
      "execution_count": null,
      "outputs": [
        {
          "output_type": "stream",
          "name": "stdout",
          "text": [
            "Return the absolute value of the argument.\n"
          ]
        }
      ]
    },
    {
      "cell_type": "markdown",
      "source": [
        "**Question-7:**\n",
        "\n",
        "Write a Python program to test whether a passed letter is a vowel or not.(1)"
      ],
      "metadata": {
        "id": "otaZzHKpSLVK"
      }
    },
    {
      "cell_type": "markdown",
      "source": [
        "**Code**"
      ],
      "metadata": {
        "id": "fQ85tCDtSP3p"
      }
    },
    {
      "cell_type": "code",
      "source": [
        "def is_vowel(char):\n",
        "    all_vowels = 'aeiou'\n",
        "    return char in all_vowels\n",
        "print(is_vowel('c'))\n",
        "print(is_vowel('e'))"
      ],
      "metadata": {
        "id": "RHh0Nht4ST5k",
        "colab": {
          "base_uri": "https://localhost:8080/"
        },
        "outputId": "e20cf2f1-f8c6-47b9-97fd-4512aa833c4a"
      },
      "execution_count": null,
      "outputs": [
        {
          "output_type": "stream",
          "name": "stdout",
          "text": [
            "False\n",
            "True\n"
          ]
        }
      ]
    },
    {
      "cell_type": "markdown",
      "source": [
        "**Question-8:**\n",
        "\n",
        "Write a Python program to solve $(x + y) * (x + y)$. (1)"
      ],
      "metadata": {
        "id": "5MeKHBv2SdDB"
      }
    },
    {
      "cell_type": "markdown",
      "source": [
        "**Code**"
      ],
      "metadata": {
        "id": "HPIfyM6FSidR"
      }
    },
    {
      "cell_type": "code",
      "source": [
        "x, y = 4, 3\n",
        "result = x * x + 2 * x * y + y * y\n",
        "print(\"({} + {}) ^ 2) = {}\".format(x, y, result))"
      ],
      "metadata": {
        "id": "ojeQxeI2SnmM",
        "colab": {
          "base_uri": "https://localhost:8080/"
        },
        "outputId": "a38c32f7-e326-4d94-e99e-6be9c84bd5e8"
      },
      "execution_count": null,
      "outputs": [
        {
          "output_type": "stream",
          "name": "stdout",
          "text": [
            "(4 + 3) ^ 2) = 49\n"
          ]
        }
      ]
    },
    {
      "cell_type": "markdown",
      "source": [
        "**Question-9:**\n",
        "\n",
        "Write a Python program to list all files in a directory in Python. (1)"
      ],
      "metadata": {
        "id": "yy0ZJYPsSs0Y"
      }
    },
    {
      "cell_type": "markdown",
      "source": [
        "**Code**"
      ],
      "metadata": {
        "id": "rx4kXtMOSxPT"
      }
    },
    {
      "cell_type": "code",
      "source": [
        "from os import listdir\n",
        "from os.path import isfile, join\n",
        "files_list = [f for f in listdir('sample_data') if isfile(join('sample_data', f))]\n",
        "print(files_list);"
      ],
      "metadata": {
        "id": "zD0nhix6SsPO",
        "colab": {
          "base_uri": "https://localhost:8080/"
        },
        "outputId": "0c48d675-b8c9-4727-d78a-6b933831d9f5"
      },
      "execution_count": null,
      "outputs": [
        {
          "output_type": "stream",
          "name": "stdout",
          "text": [
            "['README.md', 'anscombe.json', 'california_housing_test.csv', 'california_housing_train.csv', 'mnist_train_small.csv', 'mnist_test.csv']\n"
          ]
        }
      ]
    },
    {
      "cell_type": "markdown",
      "source": [
        "**Question-10:**\n",
        "\n",
        "Write a Python program to find the sum of the first n positive integers. (1)"
      ],
      "metadata": {
        "id": "Pmx92lP-S3om"
      }
    },
    {
      "cell_type": "markdown",
      "source": [
        "**Code**"
      ],
      "metadata": {
        "id": "UsthrpZNS82O"
      }
    },
    {
      "cell_type": "code",
      "source": [
        "n = int(input(\"Input a number: \"))\n",
        "sum_num = (n * (n + 1)) / 2\n",
        "print(\"Sum of the first\", n ,\"positive integers:\", sum_num)"
      ],
      "metadata": {
        "id": "AaQQmsmxS-LK",
        "colab": {
          "base_uri": "https://localhost:8080/"
        },
        "outputId": "0268eff6-1369-4661-85db-8577e47cd014"
      },
      "execution_count": null,
      "outputs": [
        {
          "output_type": "stream",
          "name": "stdout",
          "text": [
            "Input a number: 8\n",
            "Sum of the first 8 positive integers: 36.0\n"
          ]
        }
      ]
    },
    {
      "cell_type": "markdown",
      "source": [
        "##**PART-2**\n",
        "\n",
        "Time to work on variables, strings and arithmetic operators."
      ],
      "metadata": {
        "id": "0DJuY_0TTpFa"
      }
    },
    {
      "cell_type": "markdown",
      "source": [
        "**Question-11:**\n",
        "\n",
        "Swap the values of a and b using a temperory variable: (2)\n",
        "\n",
        "a = 2\n",
        "\n",
        "b = 4"
      ],
      "metadata": {
        "id": "aHeI_UKKYdj7"
      }
    },
    {
      "cell_type": "markdown",
      "source": [
        "**Code**"
      ],
      "metadata": {
        "id": "oB4KETJCYmSc"
      }
    },
    {
      "cell_type": "code",
      "source": [
        "a = 2\n",
        "b = 4\n",
        "c = a\n",
        "a = b\n",
        "b = c\n",
        "print('values of a and b after swapping are:\\n',a,'\\n',b)"
      ],
      "metadata": {
        "id": "p4qwHU64Yofs",
        "colab": {
          "base_uri": "https://localhost:8080/"
        },
        "outputId": "b77a5afe-4960-43e8-f3ef-a0af191028af"
      },
      "execution_count": null,
      "outputs": [
        {
          "output_type": "stream",
          "name": "stdout",
          "text": [
            "values of a and b after swapping are:\n",
            " 4 \n",
            " 2\n"
          ]
        }
      ]
    },
    {
      "cell_type": "markdown",
      "source": [
        "**Question-12:**\n",
        "\n",
        "Swap the values of a and b without using a temporary variable: (2)\n",
        "\n",
        "a = 2\n",
        "\n",
        "b = 4"
      ],
      "metadata": {
        "id": "E4nq37MlYsnF"
      }
    },
    {
      "cell_type": "markdown",
      "source": [
        "**Code**"
      ],
      "metadata": {
        "id": "nVJQmhQbZHO8"
      }
    },
    {
      "cell_type": "code",
      "source": [
        "a = 2\n",
        "b = 4\n",
        "a,b = b,a\n",
        "print('values of a and b after swapping are:\\n',a,'\\n',b)"
      ],
      "metadata": {
        "id": "INHPvoBaZI6Q",
        "colab": {
          "base_uri": "https://localhost:8080/"
        },
        "outputId": "362f21d9-a431-46cb-fa9c-38c91c49fcb1"
      },
      "execution_count": null,
      "outputs": [
        {
          "output_type": "stream",
          "name": "stdout",
          "text": [
            "values of a and b after swapping are:\n",
            " 4 \n",
            " 2\n"
          ]
        }
      ]
    },
    {
      "cell_type": "markdown",
      "source": [
        "**Question-13:**\n",
        "\n",
        "What is the area of a square with a side length of 7? What is the volume of a cube with the same edge length? (3)"
      ],
      "metadata": {
        "id": "MxFaO9KuZhUa"
      }
    },
    {
      "cell_type": "markdown",
      "source": [
        "**Code**"
      ],
      "metadata": {
        "id": "xVCmdanjcylo"
      }
    },
    {
      "cell_type": "code",
      "source": [
        "side = 7\n",
        "area = 7*7\n",
        "volume = 7*7*7\n",
        "\n",
        "print('area of the square with a side length of 7:\\n', area)\n",
        "print('\\nvolume of cube with an edge length of 7:\\n', volume)"
      ],
      "metadata": {
        "id": "z-WloIp4c1r1",
        "colab": {
          "base_uri": "https://localhost:8080/"
        },
        "outputId": "78abf7ec-235d-40e5-a5a1-a19f0a2fc9ad"
      },
      "execution_count": null,
      "outputs": [
        {
          "output_type": "stream",
          "name": "stdout",
          "text": [
            "area of the square with a side length of 7:\n",
            " 49\n",
            "\n",
            "volume of cube with an edge length of 7:\n",
            " 343\n"
          ]
        }
      ]
    },
    {
      "cell_type": "markdown",
      "source": [
        "**Question-14:**\n",
        "\n",
        "Define the variables below. Print the types of each variable. What is the sum of your variables? What datatype is the sum?\n",
        "\n",
        "num=23\n",
        "\n",
        "textnum=\"57\"\n",
        "\n",
        "decimal=98.3"
      ],
      "metadata": {
        "id": "LTJYHsumfM0m"
      }
    },
    {
      "cell_type": "markdown",
      "source": [
        "**Code**"
      ],
      "metadata": {
        "id": "msaLNvxifgZU"
      }
    },
    {
      "cell_type": "code",
      "source": [
        "num = 23\n",
        "textnum = \"57\"\n",
        "decimal = 98.3\n",
        "\n",
        "print(type(num))\n",
        "print(type(textnum))\n",
        "print(type(decimal))\n",
        "\n",
        "MySum = num+int(textnum)+decimal\n",
        "\n",
        "print(MySum)\n",
        "print(type(MySum))"
      ],
      "metadata": {
        "id": "vWWBwIXWflEv",
        "colab": {
          "base_uri": "https://localhost:8080/"
        },
        "outputId": "dcc6af10-8144-41d8-a2e0-79cfea2ba88d"
      },
      "execution_count": null,
      "outputs": [
        {
          "output_type": "stream",
          "name": "stdout",
          "text": [
            "<class 'int'>\n",
            "<class 'str'>\n",
            "<class 'float'>\n",
            "178.3\n",
            "<class 'float'>\n"
          ]
        }
      ]
    },
    {
      "cell_type": "markdown",
      "source": [
        "**Question-15:**\n",
        "\n",
        "Check the data type of the following variables:\n",
        "\n",
        "a = 4\n",
        "\n",
        "b = 'see'\n",
        "\n",
        "c = 80.5\n",
        "\n",
        "d = True"
      ],
      "metadata": {
        "id": "17OLcPtdfsGF"
      }
    },
    {
      "cell_type": "markdown",
      "source": [
        "**Code**"
      ],
      "metadata": {
        "id": "imkNsvv4gg9l"
      }
    },
    {
      "cell_type": "code",
      "source": [
        "a = 4\n",
        "b = 'see'\n",
        "c = 80.5\n",
        "d = True\n",
        "\n",
        "print('data type of a:\\n',type(a))\n",
        "print('\\ndata type of b:\\n',type(b))\n",
        "print('\\ndata type of c:\\n',type(c))\n",
        "print('\\ndata type of d:\\n',type(d))"
      ],
      "metadata": {
        "id": "TtdGPpUCgiC_",
        "colab": {
          "base_uri": "https://localhost:8080/"
        },
        "outputId": "28775e52-01cb-499f-8042-4f1888055c6f"
      },
      "execution_count": null,
      "outputs": [
        {
          "output_type": "stream",
          "name": "stdout",
          "text": [
            "data type of a:\n",
            " <class 'int'>\n",
            "\n",
            "data type of b:\n",
            " <class 'str'>\n",
            "\n",
            "data type of c:\n",
            " <class 'float'>\n",
            "\n",
            "data type of d:\n",
            " <class 'bool'>\n"
          ]
        }
      ]
    },
    {
      "cell_type": "markdown",
      "source": [
        "**Question-16:**\n",
        "\n",
        "Write a program to create a new string made of following string’s first, middle, and last character. (4)\n",
        "\n",
        "'James'"
      ],
      "metadata": {
        "id": "kZugxda2hZqs"
      }
    },
    {
      "cell_type": "code",
      "source": [
        "str1 = 'James'\n",
        "print(\"Original String is\", str1)\n",
        "\n",
        "# Get first character\n",
        "res = str1[0]\n",
        "\n",
        "# Get string size\n",
        "l = len(str1)\n",
        "# Get middle index number\n",
        "mi = int(l / 2)\n",
        "# Get middle character and add it to result\n",
        "res = res + str1[mi]\n",
        "\n",
        "# Get last character and add it to result\n",
        "res = res + str1[l - 1]\n",
        "\n",
        "print(\"New String:\", res)"
      ],
      "metadata": {
        "id": "4VipkTkPiYjL",
        "colab": {
          "base_uri": "https://localhost:8080/"
        },
        "outputId": "f808105a-afe5-43fa-d920-1e30f80202ff"
      },
      "execution_count": null,
      "outputs": [
        {
          "output_type": "stream",
          "name": "stdout",
          "text": [
            "Original String is James\n",
            "New String: Jms\n"
          ]
        }
      ]
    },
    {
      "cell_type": "markdown",
      "source": [
        "**Question-17:**\n",
        "\n",
        "Reverse a given string: (4)\n",
        "\n",
        "'Awesome'"
      ],
      "metadata": {
        "id": "hOIi3qY4imro"
      }
    },
    {
      "cell_type": "markdown",
      "source": [
        "**Code**"
      ],
      "metadata": {
        "id": "7BN0jxJSkLgr"
      }
    },
    {
      "cell_type": "code",
      "source": [
        "str1 = \"Awesome\"\n",
        "print(\"Original String is:\", str1)\n",
        "\n",
        "str1 = str1[::-1]\n",
        "print(\"Reversed String is:\", str1)"
      ],
      "metadata": {
        "id": "FDVun595kMrO",
        "colab": {
          "base_uri": "https://localhost:8080/"
        },
        "outputId": "ea08674d-1698-4cef-f6e9-2941672e0499"
      },
      "execution_count": null,
      "outputs": [
        {
          "output_type": "stream",
          "name": "stdout",
          "text": [
            "Original String is: Awesome\n",
            "Reversed String is: emosewA\n"
          ]
        }
      ]
    },
    {
      "cell_type": "markdown",
      "source": [
        "**Question-18:**\n",
        "\n",
        "Write a program to find the last position of a substring “Kaylie” in a given string. (4)\n",
        "\n",
        "'Kaylie is a data scientist who knows Python. Kaylie works at google.'"
      ],
      "metadata": {
        "id": "OIOTb8pIkpki"
      }
    },
    {
      "cell_type": "markdown",
      "source": [
        "**Code**"
      ],
      "metadata": {
        "id": "LI8yW7axlPCl"
      }
    },
    {
      "cell_type": "code",
      "source": [
        "str1 = \"Kaylie is a data scientist who knows Python. Kaylie works at google.\"\n",
        "print(\"Original String is:\", str1)\n",
        "\n",
        "index = str1.rfind(\"Kaylie\")\n",
        "print(\"Last occurrence of Kaylie starts at index:\", index)"
      ],
      "metadata": {
        "id": "YFD7N4EklQ8p",
        "colab": {
          "base_uri": "https://localhost:8080/"
        },
        "outputId": "730798f8-fc97-4f5c-9840-8484f52e4f1d"
      },
      "execution_count": null,
      "outputs": [
        {
          "output_type": "stream",
          "name": "stdout",
          "text": [
            "Original String is: Kaylie is a data scientist who knows Python. Kaylie works at google.\n",
            "Last occurrence of Kaylie starts at index: 45\n"
          ]
        }
      ]
    },
    {
      "cell_type": "markdown",
      "source": [
        "**Question-19:**\n",
        "\n",
        "Write a program to split a given string on hyphens and display each substring. (4)\n",
        "\n",
        "'Cassie-is-a-data-scientist'"
      ],
      "metadata": {
        "id": "nYZ7bwzelblQ"
      }
    },
    {
      "cell_type": "markdown",
      "source": [
        "**Code**"
      ],
      "metadata": {
        "id": "MhswG-ZZlvCk"
      }
    },
    {
      "cell_type": "code",
      "source": [
        "str1 = \"Cassie-is-a-data-scientist\"\n",
        "print(\"Original String is:\", str1)\n",
        "\n",
        "# split string\n",
        "sub_strings = str1.split(\"-\")\n",
        "\n",
        "print(\"Displaying each substring\")\n",
        "for sub in sub_strings:\n",
        "    print(sub)"
      ],
      "metadata": {
        "id": "1YeL2bS-lwce",
        "colab": {
          "base_uri": "https://localhost:8080/"
        },
        "outputId": "48415cbb-b38c-4ded-c5e9-1540bd3ccd3d"
      },
      "execution_count": null,
      "outputs": [
        {
          "output_type": "stream",
          "name": "stdout",
          "text": [
            "Original String is: Cassie-is-a-data-scientist\n",
            "Displaying each substring\n",
            "Cassie\n",
            "is\n",
            "a\n",
            "data\n",
            "scientist\n"
          ]
        }
      ]
    },
    {
      "cell_type": "markdown",
      "source": [
        "**Question-20:**\n",
        "\n",
        "Replace each special symbol with # in the following string: (4)\n",
        "\n",
        "'/*Dane is @developer & musician!!'"
      ],
      "metadata": {
        "id": "3wXGuQ0Bl_GK"
      }
    },
    {
      "cell_type": "markdown",
      "source": [
        "**Code**"
      ],
      "metadata": {
        "id": "2T9EvHoOmlUS"
      }
    },
    {
      "cell_type": "code",
      "source": [
        "import string\n",
        "\n",
        "str1 = '/*Dane is @developer & musician!!'\n",
        "print(\"The original string is : \", str1)\n",
        "\n",
        "# Replace punctuations with #\n",
        "replace_char = '#'\n",
        "\n",
        "# string.punctuation to get the list of all special symbols\n",
        "for char in string.punctuation:\n",
        "    str1 = str1.replace(char, replace_char)\n",
        "\n",
        "print(\"The strings after replacement : \", str1)"
      ],
      "metadata": {
        "id": "n5NL50almmvP",
        "colab": {
          "base_uri": "https://localhost:8080/"
        },
        "outputId": "46f488c1-261b-48a0-ef95-8fe663f6095a"
      },
      "execution_count": null,
      "outputs": [
        {
          "output_type": "stream",
          "name": "stdout",
          "text": [
            "The original string is :  /*Dane is @developer & musician!!\n",
            "The strings after replacement :  ##Dane is #developer # musician##\n"
          ]
        }
      ]
    },
    {
      "cell_type": "markdown",
      "source": [
        "**Question-21:**\n",
        "\n",
        "remove 5th character from the following string with atleast two methods:(5)\n",
        "\n",
        "'BeautifulMistakes'\n",
        "\n",
        "Note: indexing in python starts from 0"
      ],
      "metadata": {
        "id": "AXyetBuujqYx"
      }
    },
    {
      "cell_type": "markdown",
      "source": [
        "**Code**"
      ],
      "metadata": {
        "id": "cxJm-VrokCtO"
      }
    },
    {
      "cell_type": "code",
      "source": [
        "# Method-1\n",
        "# Initializing String \n",
        "test_str = \"BeautifulMistakes\"\n",
        "  \n",
        "# Printing original string \n",
        "print (\"The original string is : \" + test_str)\n",
        "  \n",
        "# Removing char at pos 5\n",
        "# using replace\n",
        "new_str = test_str.replace('t', '', 1)\n",
        "  \n",
        "# Printing string after removal  \n",
        "print (\"The string after removal of 5th character : \" + new_str)"
      ],
      "metadata": {
        "colab": {
          "base_uri": "https://localhost:8080/"
        },
        "id": "QQp_h6MUkQps",
        "outputId": "cc41dfe0-ce13-41fa-a0e4-16342135426f"
      },
      "execution_count": null,
      "outputs": [
        {
          "output_type": "stream",
          "name": "stdout",
          "text": [
            "The original string is : BeautifulMistakes\n",
            "The string after removal of 5th character : BeauifulMistakes\n"
          ]
        }
      ]
    },
    {
      "cell_type": "code",
      "source": [
        "# Method-2\n",
        "# Initializing String \n",
        "test_str = \"BeautifulMistakes\"\n",
        "  \n",
        "# Printing original string \n",
        "print (\"The original string is : \" + test_str)\n",
        "  \n",
        "# Removing char at pos 5\n",
        "# using slice + concatenation\n",
        "new_str = test_str[:4] +  test_str[5:]\n",
        "  \n",
        "# Printing string after removal  \n",
        "# removes ele. at 5th index\n",
        "print (\"The string after removal of i'th character : \" + new_str)"
      ],
      "metadata": {
        "colab": {
          "base_uri": "https://localhost:8080/"
        },
        "id": "taSdlxnskXB0",
        "outputId": "d10a4faf-4570-452f-f40e-c0797d8a3d8a"
      },
      "execution_count": null,
      "outputs": [
        {
          "output_type": "stream",
          "name": "stdout",
          "text": [
            "The original string is : BeautifulMistakes\n",
            "The string after removal of i'th character : BeauifulMistakes\n"
          ]
        }
      ]
    },
    {
      "cell_type": "markdown",
      "source": [
        "**Question-22:**\n",
        "\n",
        "Calculate the following expression:\n",
        "\n",
        "$(44*(2400-30^2))/60.0$"
      ],
      "metadata": {
        "id": "qJebCDe3nu6u"
      }
    },
    {
      "cell_type": "markdown",
      "source": [
        "**Code**"
      ],
      "metadata": {
        "id": "AWf3CM_upd_0"
      }
    },
    {
      "cell_type": "code",
      "source": [
        "result = (44*(2400-(30**2)))/60.0\n",
        "print('result of the calculation is:\\n', result)"
      ],
      "metadata": {
        "colab": {
          "base_uri": "https://localhost:8080/"
        },
        "id": "65cdQxAmpfc7",
        "outputId": "bd2b59d5-e8ae-409a-941e-b153cf203ebc"
      },
      "execution_count": null,
      "outputs": [
        {
          "output_type": "stream",
          "name": "stdout",
          "text": [
            "result of the calculation is:\n",
            " 1100.0\n"
          ]
        }
      ]
    },
    {
      "cell_type": "markdown",
      "source": [
        "**Question-23:**\n",
        "\n",
        "Evaluate the remainder and quotient when 70 is divided by 6."
      ],
      "metadata": {
        "id": "oCAx1O7fp2m5"
      }
    },
    {
      "cell_type": "markdown",
      "source": [
        "**Code**"
      ],
      "metadata": {
        "id": "ZKSTJwVHrBCC"
      }
    },
    {
      "cell_type": "code",
      "source": [
        "remainder = 70%6\n",
        "quotient = 70//6\n",
        "\n",
        "print('remainder is:\\n',remainder)\n",
        "print('\\nquotient is:\\n',quotient)"
      ],
      "metadata": {
        "colab": {
          "base_uri": "https://localhost:8080/"
        },
        "id": "FDWnK2ikrCd_",
        "outputId": "767a8a0f-e266-4187-94dd-9fc1943f7c6a"
      },
      "execution_count": null,
      "outputs": [
        {
          "output_type": "stream",
          "name": "stdout",
          "text": [
            "remainder is:\n",
            " 4\n",
            "\n",
            "quotient is:\n",
            " 11\n"
          ]
        }
      ]
    },
    {
      "cell_type": "markdown",
      "source": [
        "##**Part-3**\n",
        "\n",
        "Let's get try our hands on lists, tuples, sets and dictionaries."
      ],
      "metadata": {
        "id": "W-dP5vHWrs1K"
      }
    },
    {
      "cell_type": "markdown",
      "source": [
        "**Question-24:**\n",
        "\n",
        "find the sum and multiplication of all the items in the following list:\n",
        "\n",
        "[1,5,6,97,102,37,-89,90,109,221,-300]"
      ],
      "metadata": {
        "id": "yILS4B37r-O4"
      }
    },
    {
      "cell_type": "markdown",
      "source": [
        "**Code**"
      ],
      "metadata": {
        "id": "ikf_QSpRsFHG"
      }
    },
    {
      "cell_type": "code",
      "source": [
        "sample_list = [1,5,6,97,102,37,-89,90,109,221,-300]\n",
        "sum = 0\n",
        "multiplication = 1\n",
        "for item in sample_list:\n",
        "  sum = sum + item\n",
        "  multiplication = multiplication*item\n",
        "\n",
        "print('sum of all the items in the list is:\\n',sum)\n",
        "print('multiplication of all the items in the list is:\\n',multiplication)"
      ],
      "metadata": {
        "colab": {
          "base_uri": "https://localhost:8080/"
        },
        "id": "gSRrakanr9bz",
        "outputId": "9a23b507-3eb6-489f-cd77-866049878415"
      },
      "execution_count": null,
      "outputs": [
        {
          "output_type": "stream",
          "name": "stdout",
          "text": [
            "sum of all the items in the list is:\n",
            " 279\n",
            "multiplication of all the items in the list is:\n",
            " 635722272588780000\n"
          ]
        }
      ]
    },
    {
      "cell_type": "markdown",
      "source": [
        "**Question-25:**\n",
        "\n",
        "find the largest and the smallest number in the following list:\n",
        "\n",
        "[1,67,-378,38,198,23,-133,488,-238,234]"
      ],
      "metadata": {
        "id": "4sp-HdiYsK8b"
      }
    },
    {
      "cell_type": "markdown",
      "source": [
        "**Code**"
      ],
      "metadata": {
        "id": "-fZzhfISsK8b"
      }
    },
    {
      "cell_type": "code",
      "source": [
        "sample_list = [1,67,-378,38,198,23,-133,488,-238,234]\n",
        "max = sample_list[0]\n",
        "min = sample_list[0]\n",
        "for item in sample_list:\n",
        "  if item > max:\n",
        "    max = item\n",
        "  if item < min:\n",
        "    min = item\n",
        "\n",
        "print('largest number in the list:\\n',max)\n",
        "print('\\nsmallest number in the list:\\n',min)"
      ],
      "metadata": {
        "colab": {
          "base_uri": "https://localhost:8080/"
        },
        "id": "ku4oJyzDsK8b",
        "outputId": "7b116357-485b-4bbd-a671-aa39be03e93c"
      },
      "execution_count": null,
      "outputs": [
        {
          "output_type": "stream",
          "name": "stdout",
          "text": [
            "largest number in the list:\n",
            " 488\n",
            "\n",
            "smallest number in the list:\n",
            " -378\n"
          ]
        }
      ]
    },
    {
      "cell_type": "markdown",
      "source": [
        "**Question-26:**\n",
        "\n",
        "Write a Python program to check a list is empty or not. (1)"
      ],
      "metadata": {
        "id": "cbXSaMDjsLJA"
      }
    },
    {
      "cell_type": "markdown",
      "source": [
        "**Code**"
      ],
      "metadata": {
        "id": "1yVPgK4CsLJA"
      }
    },
    {
      "cell_type": "code",
      "source": [
        "l = []\n",
        "if not l:\n",
        "  print(\"List is empty\")"
      ],
      "metadata": {
        "colab": {
          "base_uri": "https://localhost:8080/"
        },
        "id": "4od8nRvzsLJA",
        "outputId": "b1f9fcc1-1b5a-4725-80dc-229d2e172776"
      },
      "execution_count": null,
      "outputs": [
        {
          "output_type": "stream",
          "name": "stdout",
          "text": [
            "List is empty\n"
          ]
        }
      ]
    },
    {
      "cell_type": "markdown",
      "source": [
        "**Question-27:**\n",
        "\n",
        "Write a Python program to clone or copy a list. (1)"
      ],
      "metadata": {
        "id": "HP-g2_stsLOv"
      }
    },
    {
      "cell_type": "markdown",
      "source": [
        "**Code**"
      ],
      "metadata": {
        "id": "oiZCLv7gsLOw"
      }
    },
    {
      "cell_type": "code",
      "source": [
        "original_list = [10, 22, 44, 23, 4]\n",
        "new_list = original_list.copy()\n",
        "print(original_list)\n",
        "print(new_list)"
      ],
      "metadata": {
        "colab": {
          "base_uri": "https://localhost:8080/"
        },
        "id": "MXvw6p_SsLOw",
        "outputId": "9f4ee8d2-42bf-4092-96f2-fb29a3c284fb"
      },
      "execution_count": null,
      "outputs": [
        {
          "output_type": "stream",
          "name": "stdout",
          "text": [
            "[10, 22, 44, 23, 4]\n",
            "[10, 22, 44, 23, 4]\n"
          ]
        }
      ]
    },
    {
      "cell_type": "markdown",
      "source": [
        "**Question-28:**\n",
        "\n",
        "Write a Python program to print a specified list after removing the 0th, 4th and 5th elements. (1)\n",
        "\n",
        "sample list:\n",
        "['Red', 'Green', 'White', 'Black', 'Pink', 'Yellow']"
      ],
      "metadata": {
        "id": "Wvx3lbGusLbd"
      }
    },
    {
      "cell_type": "markdown",
      "source": [
        "**Code**"
      ],
      "metadata": {
        "id": "AA3NDgWnsLbe"
      }
    },
    {
      "cell_type": "code",
      "source": [
        "color = ['Red', 'Green', 'White', 'Black', 'Pink', 'Yellow']\n",
        "color = [x for (i,x) in enumerate(color) if i not in (0,4,5)]\n",
        "print(color)"
      ],
      "metadata": {
        "colab": {
          "base_uri": "https://localhost:8080/"
        },
        "id": "R7Kt2tcosLbe",
        "outputId": "c0e2a774-d5e9-4329-e280-0b43fb26110a"
      },
      "execution_count": null,
      "outputs": [
        {
          "output_type": "stream",
          "name": "stdout",
          "text": [
            "['Green', 'White', 'Black']\n"
          ]
        }
      ]
    },
    {
      "cell_type": "markdown",
      "source": [
        "**Question-29:**\n",
        "\n",
        "Write a Python program to convert a list of characters into a string.(1)\n",
        "\n",
        "sample list: ['a', 'b', 'c', 'd']\n"
      ],
      "metadata": {
        "id": "Uzav4023sLe-"
      }
    },
    {
      "cell_type": "markdown",
      "source": [
        "**Code**"
      ],
      "metadata": {
        "id": "SdOYiLl_sLe-"
      }
    },
    {
      "cell_type": "code",
      "source": [
        "s = ['a', 'b', 'c', 'd']\n",
        "str1 = ''.join(s)\n",
        "print(str1)"
      ],
      "metadata": {
        "colab": {
          "base_uri": "https://localhost:8080/"
        },
        "id": "Ivirl4dKsLe_",
        "outputId": "b14268cd-0420-48b1-e819-7316332ee45c"
      },
      "execution_count": null,
      "outputs": [
        {
          "output_type": "stream",
          "name": "stdout",
          "text": [
            "abcd\n"
          ]
        }
      ]
    },
    {
      "cell_type": "markdown",
      "source": [
        "**Question-30:**\n",
        "\n",
        "Write a Python program to find the index of an item in a specified list.(1)\n",
        "\n",
        "sample list: [10, 30, 4, -6]\n"
      ],
      "metadata": {
        "id": "E0RIjSYVsLiM"
      }
    },
    {
      "cell_type": "markdown",
      "source": [
        "**Code**"
      ],
      "metadata": {
        "id": "zGNyo_AhsLiM"
      }
    },
    {
      "cell_type": "code",
      "source": [
        "num =[10, 30, 4, -6]\n",
        "print(num.index(30))"
      ],
      "metadata": {
        "colab": {
          "base_uri": "https://localhost:8080/"
        },
        "id": "fFJu_WcEsLiM",
        "outputId": "9a25348b-bd00-48f6-ad70-d8401f5f4dc5"
      },
      "execution_count": null,
      "outputs": [
        {
          "output_type": "stream",
          "name": "stdout",
          "text": [
            "1\n"
          ]
        }
      ]
    },
    {
      "cell_type": "markdown",
      "source": [
        "**Question-31:**\n",
        "\n",
        "Write a Python program to append a list to the second list.(1)\n",
        "\n",
        "sample lists:\n",
        "\n",
        "[1, 2, 3, 0]\n",
        "\n",
        "['Red', 'Green', 'Black']"
      ],
      "metadata": {
        "id": "h4uNtahPsLlW"
      }
    },
    {
      "cell_type": "markdown",
      "source": [
        "**Code**"
      ],
      "metadata": {
        "id": "uclFxDCbsLlW"
      }
    },
    {
      "cell_type": "code",
      "source": [
        "list1 = [1, 2, 3, 0]\n",
        "list2 = ['Red', 'Green', 'Black']\n",
        "final_list = list1 + list2\n",
        "print(final_list)"
      ],
      "metadata": {
        "colab": {
          "base_uri": "https://localhost:8080/"
        },
        "id": "ehT2GBjksLlW",
        "outputId": "85927401-8d00-4a48-868d-4e00454d1130"
      },
      "execution_count": null,
      "outputs": [
        {
          "output_type": "stream",
          "name": "stdout",
          "text": [
            "[1, 2, 3, 0, 'Red', 'Green', 'Black']\n"
          ]
        }
      ]
    },
    {
      "cell_type": "markdown",
      "source": [
        "**Question-32:**\n",
        "\n",
        "Write a Python program to select an item randomly from a list. (1)\n",
        "\n",
        "hint: random.choice()\n",
        "\n",
        "sample list: ['Red', 'Blue', 'Green', 'White', 'Black']"
      ],
      "metadata": {
        "id": "1Xx27BxpsLo-"
      }
    },
    {
      "cell_type": "markdown",
      "source": [
        "**Code**"
      ],
      "metadata": {
        "id": "DMuRvb7DsLo-"
      }
    },
    {
      "cell_type": "code",
      "source": [
        "import random\n",
        "color_list = ['Red', 'Blue', 'Green', 'White', 'Black']\n",
        "print(random.choice(color_list))"
      ],
      "metadata": {
        "colab": {
          "base_uri": "https://localhost:8080/"
        },
        "id": "qgvwzWN3sLo-",
        "outputId": "6c6a3be8-5da4-4e8d-a35b-c027ecb6d6b1"
      },
      "execution_count": null,
      "outputs": [
        {
          "output_type": "stream",
          "name": "stdout",
          "text": [
            "Black\n"
          ]
        }
      ]
    },
    {
      "cell_type": "markdown",
      "source": [
        "**Question-33:**\n",
        "\n",
        "reverse the following tuple: (4)\n",
        "\n",
        "(10, 20, 30, 40, 50)\n"
      ],
      "metadata": {
        "id": "4nyceLKmsLsE"
      }
    },
    {
      "cell_type": "markdown",
      "source": [
        "**Code**"
      ],
      "metadata": {
        "id": "0CG6QS1IsLsE"
      }
    },
    {
      "cell_type": "code",
      "source": [
        "tuple1 = (10, 20, 30, 40, 50)\n",
        "tuple1 = tuple1[::-1]\n",
        "print(tuple1)"
      ],
      "metadata": {
        "colab": {
          "base_uri": "https://localhost:8080/"
        },
        "id": "yPPvvs1usLsE",
        "outputId": "e8138017-70c6-4a72-a828-9173154d883e"
      },
      "execution_count": null,
      "outputs": [
        {
          "output_type": "stream",
          "name": "stdout",
          "text": [
            "(50, 40, 30, 20, 10)\n"
          ]
        }
      ]
    },
    {
      "cell_type": "markdown",
      "source": [
        "**Question-34:**\n",
        "\n",
        "Unpack the following tuple into 4 variables.(4)\n",
        "\n",
        "(10, 20, 30, 40)"
      ],
      "metadata": {
        "id": "E04YY_opsLvf"
      }
    },
    {
      "cell_type": "markdown",
      "source": [
        "**Code**"
      ],
      "metadata": {
        "id": "wl96_t7PsLvf"
      }
    },
    {
      "cell_type": "code",
      "source": [
        "tuple1 = (10, 20, 30, 40)\n",
        "\n",
        "# unpack tuple into 4 variables\n",
        "a, b, c, d = tuple1\n",
        "print(a)\n",
        "print(b)\n",
        "print(c)\n",
        "print(d)"
      ],
      "metadata": {
        "colab": {
          "base_uri": "https://localhost:8080/"
        },
        "id": "yvwwt1ktsLvg",
        "outputId": "d1d975bd-142b-45aa-dbe9-b7a73072cca4"
      },
      "execution_count": null,
      "outputs": [
        {
          "output_type": "stream",
          "name": "stdout",
          "text": [
            "10\n",
            "20\n",
            "30\n",
            "40\n"
          ]
        }
      ]
    },
    {
      "cell_type": "markdown",
      "source": [
        "**Question-35:**\n",
        "\n",
        "Counts the number of occurrences of item 50 from a tuple.(4)\n",
        "\n",
        "(50, 10, 60, 70, 50)"
      ],
      "metadata": {
        "id": "1m6YCyfIsLy0"
      }
    },
    {
      "cell_type": "markdown",
      "source": [
        "**Code**"
      ],
      "metadata": {
        "id": "-S5dgCktsLy0"
      }
    },
    {
      "cell_type": "code",
      "source": [
        "tuple1 = (50, 10, 60, 70, 50)\n",
        "print(tuple1.count(50))"
      ],
      "metadata": {
        "colab": {
          "base_uri": "https://localhost:8080/"
        },
        "id": "d0rgqCqvsLy1",
        "outputId": "afbab98c-682d-4002-e415-a545fbd65c10"
      },
      "execution_count": null,
      "outputs": [
        {
          "output_type": "stream",
          "name": "stdout",
          "text": [
            "2\n"
          ]
        }
      ]
    },
    {
      "cell_type": "markdown",
      "source": [
        "**Question-36:**\n",
        "\n",
        "find the size of the following tuples: (5)\n",
        "\n",
        "(\"A\", 1, \"B\", 2, \"C\", 3)\n",
        "\n",
        "(\"Geek1\", \"Raju\", \"Geek2\", \"Nikhil\", \"Geek3\", \"Deepanshu\")\n",
        "\n",
        "((1, \"Lion\"), ( 2, \"Tiger\"), (3, \"Fox\"), (4, \"Wolf\"))"
      ],
      "metadata": {
        "id": "9ssTi9f5sL19"
      }
    },
    {
      "cell_type": "markdown",
      "source": [
        "**Code**"
      ],
      "metadata": {
        "id": "Ip6RbdM1sL19"
      }
    },
    {
      "cell_type": "code",
      "source": [
        "import sys\n",
        "  \n",
        "# sample Tuples\n",
        "Tuple1 = (\"A\", 1, \"B\", 2, \"C\", 3)\n",
        "Tuple2 = (\"Geek1\", \"Raju\", \"Geek2\", \"Nikhil\", \"Geek3\", \"Deepanshu\")\n",
        "Tuple3 = ((1, \"Lion\"), ( 2, \"Tiger\"), (3, \"Fox\"), (4, \"Wolf\"))\n",
        "  \n",
        "# print the sizes of sample Tuples\n",
        "print(\"Size of Tuple1: \" + str(sys.getsizeof(Tuple1)) + \"bytes\")\n",
        "print(\"Size of Tuple2: \" + str(sys.getsizeof(Tuple2)) + \"bytes\")\n",
        "print(\"Size of Tuple3: \" + str(sys.getsizeof(Tuple3)) + \"bytes\")"
      ],
      "metadata": {
        "colab": {
          "base_uri": "https://localhost:8080/"
        },
        "id": "jPnJCdxYsL19",
        "outputId": "bf494a9e-d4cd-469d-97ec-76110c6bc32d"
      },
      "execution_count": null,
      "outputs": [
        {
          "output_type": "stream",
          "name": "stdout",
          "text": [
            "Size of Tuple1: 104bytes\n",
            "Size of Tuple2: 104bytes\n",
            "Size of Tuple3: 88bytes\n"
          ]
        }
      ]
    },
    {
      "cell_type": "markdown",
      "source": [
        "**Question-37:**\n",
        "\n",
        "find the maximum 2 and the minimum 2 elements in the following tuple: (5)\n",
        "\n",
        "(5, 20, 3, 7, 6, 8)"
      ],
      "metadata": {
        "id": "dq3fo5X6sL59"
      }
    },
    {
      "cell_type": "markdown",
      "source": [
        "**Code**"
      ],
      "metadata": {
        "id": "b0J5UigdsL5-"
      }
    },
    {
      "cell_type": "code",
      "source": [
        "test_tup = (5, 20, 3, 7, 6, 8)\n",
        " \n",
        "# printing original tuple\n",
        "print(\"The original tuple is : \" + str(test_tup))\n",
        " \n",
        "# initializing K\n",
        "K = 2\n",
        " \n",
        "# Maximum and Minimum K elements in Tuple\n",
        "# Using slicing + sorted()\n",
        "test_tup = list(test_tup)\n",
        "temp = sorted(test_tup)\n",
        "res = tuple(temp[:K] + temp[-K:])\n",
        " \n",
        "# printing result\n",
        "print(\"The extracted values : \" + str(res))"
      ],
      "metadata": {
        "colab": {
          "base_uri": "https://localhost:8080/"
        },
        "id": "YOG03BrJsL5-",
        "outputId": "1619bdcf-ff7b-454e-ed49-d4dde24d080b"
      },
      "execution_count": null,
      "outputs": [
        {
          "output_type": "stream",
          "name": "stdout",
          "text": [
            "The original tuple is : (5, 20, 3, 7, 6, 8)\n",
            "The extracted values : (3, 5, 8, 20)\n"
          ]
        }
      ]
    },
    {
      "cell_type": "markdown",
      "source": [
        "**Question-38:**\n",
        "\n",
        "create a list of tuples from given list having number and its cube in each tuple. (5)\n",
        "\n",
        "sample list: [1, 2, 5, 6]"
      ],
      "metadata": {
        "id": "dK6fgm7dsL9m"
      }
    },
    {
      "cell_type": "markdown",
      "source": [
        "**Code**"
      ],
      "metadata": {
        "id": "b2HQ_GlZsL9n"
      }
    },
    {
      "cell_type": "code",
      "source": [
        "# creating a list\n",
        "list1 = [1, 2, 5, 6]\n",
        "  \n",
        "# using list comprehension to iterate each\n",
        "# values in list and create a tuple as specified\n",
        "res = [(val, pow(val, 3)) for val in list1]\n",
        "  \n",
        "# print the result\n",
        "print(res)"
      ],
      "metadata": {
        "colab": {
          "base_uri": "https://localhost:8080/"
        },
        "id": "RDp5oaF5sL9n",
        "outputId": "7885f16d-1915-4917-b864-262564510756"
      },
      "execution_count": null,
      "outputs": [
        {
          "output_type": "stream",
          "name": "stdout",
          "text": [
            "[(1, 1), (2, 8), (5, 125), (6, 216)]\n"
          ]
        }
      ]
    },
    {
      "cell_type": "markdown",
      "source": [
        "**Question-39:**\n",
        "\n",
        "Test if tuple is distinct: (5)\n",
        "\n",
        "sample tuple: (1, 4, 5, 6)"
      ],
      "metadata": {
        "id": "DmMnYUEGsMBW"
      }
    },
    {
      "cell_type": "markdown",
      "source": [
        "**Code**"
      ],
      "metadata": {
        "id": "XJJuiEnnsMBW"
      }
    },
    {
      "cell_type": "code",
      "source": [
        "# initialize tuple \n",
        "test_tup = (1, 4, 5, 6)\n",
        "  \n",
        "# printing original tuple \n",
        "print(\"The original tuple is : \" + str(test_tup))\n",
        "  \n",
        "# Test if tuple is distinct\n",
        "# Using set() + len()\n",
        "res = len(set(test_tup)) == len(test_tup)\n",
        "  \n",
        "# printing result\n",
        "print(\"Is tuple distinct ? : \" + str(res))"
      ],
      "metadata": {
        "colab": {
          "base_uri": "https://localhost:8080/"
        },
        "id": "LQ_OVn6fsMBW",
        "outputId": "1c4df7b2-2758-4aaf-9159-d4eac1751ce7"
      },
      "execution_count": null,
      "outputs": [
        {
          "output_type": "stream",
          "name": "stdout",
          "text": [
            "The original tuple is : (1, 4, 5, 6)\n",
            "Is tuple distinct ? : True\n"
          ]
        }
      ]
    },
    {
      "cell_type": "markdown",
      "source": [
        "**Question-40:**\n",
        "\n",
        "Given a Python list, Write a program to add all its elements into a given set. (4)\n",
        "\n",
        "sample_set = {\"Yellow\", \"Orange\", \"Black\"}\n",
        "\n",
        "sample_list = [\"Blue\", \"Green\", \"Red\"]"
      ],
      "metadata": {
        "id": "ci-ohnvPsME9"
      }
    },
    {
      "cell_type": "markdown",
      "source": [
        "**Code**"
      ],
      "metadata": {
        "id": "t7hzwQJPsME9"
      }
    },
    {
      "cell_type": "code",
      "source": [
        "sample_set = {\"Yellow\", \"Orange\", \"Black\"}\n",
        "sample_list = [\"Blue\", \"Green\", \"Red\"]\n",
        "\n",
        "sample_set.update(sample_list)\n",
        "print(sample_set)"
      ],
      "metadata": {
        "colab": {
          "base_uri": "https://localhost:8080/"
        },
        "id": "Qrxb9owasME9",
        "outputId": "b994e828-fc22-4b65-9e08-8e4fd77f7293"
      },
      "execution_count": null,
      "outputs": [
        {
          "output_type": "stream",
          "name": "stdout",
          "text": [
            "{'Yellow', 'Red', 'Black', 'Blue', 'Green', 'Orange'}\n"
          ]
        }
      ]
    },
    {
      "cell_type": "markdown",
      "source": [
        "**Question-41:**\n",
        "\n",
        "Return a new set of identical items from two sets. (4)\n",
        "\n",
        "set1 = {10, 20, 30, 40, 50}\n",
        "\n",
        "set2 = {30, 40, 50, 60, 70}"
      ],
      "metadata": {
        "id": "wrJkqkBLsMIL"
      }
    },
    {
      "cell_type": "markdown",
      "source": [
        "**Code**"
      ],
      "metadata": {
        "id": "FzYUq3iFsMIL"
      }
    },
    {
      "cell_type": "code",
      "source": [
        "set1 = {10, 20, 30, 40, 50}\n",
        "set2 = {30, 40, 50, 60, 70}\n",
        "\n",
        "print(set1.intersection(set2))"
      ],
      "metadata": {
        "colab": {
          "base_uri": "https://localhost:8080/"
        },
        "id": "rdQqA5-IsMIM",
        "outputId": "8e0d00bf-3cc4-4af9-e15b-750ca58b8a6a"
      },
      "execution_count": null,
      "outputs": [
        {
          "output_type": "stream",
          "name": "stdout",
          "text": [
            "{40, 50, 30}\n"
          ]
        }
      ]
    },
    {
      "cell_type": "markdown",
      "source": [
        "**Question-42:**\n",
        "\n",
        "Write a Python program to return a new set with unique items from both sets by removing duplicates.(4)\n",
        "\n",
        "set1 = {10, 20, 30, 40, 50}\n",
        "\n",
        "set2 = {30, 40, 50, 60, 70}"
      ],
      "metadata": {
        "id": "1ilOFer1sMLc"
      }
    },
    {
      "cell_type": "markdown",
      "source": [
        "**Code**"
      ],
      "metadata": {
        "id": "_vvgj-Y4sMLc"
      }
    },
    {
      "cell_type": "code",
      "source": [
        "set1 = {10, 20, 30, 40, 50}\n",
        "set2 = {30, 40, 50, 60, 70}\n",
        "\n",
        "print(set1.union(set2))"
      ],
      "metadata": {
        "colab": {
          "base_uri": "https://localhost:8080/"
        },
        "id": "hE6viwdzsMLc",
        "outputId": "175900e2-08a5-4fb4-e89f-91e2112b0b15"
      },
      "execution_count": null,
      "outputs": [
        {
          "output_type": "stream",
          "name": "stdout",
          "text": [
            "{70, 40, 10, 50, 20, 60, 30}\n"
          ]
        }
      ]
    },
    {
      "cell_type": "markdown",
      "source": [
        "**Question-43:**\n",
        "\n",
        "Given two Python sets, write a Python program to update the first set with items that exist only in the first set and not in the second set. (4)\n",
        "\n",
        "set1 = {10, 20, 30}\n",
        "\n",
        "set2 = {20, 40, 50}"
      ],
      "metadata": {
        "id": "Ok5qef2ZsMO-"
      }
    },
    {
      "cell_type": "markdown",
      "source": [
        "**Code**"
      ],
      "metadata": {
        "id": "Uc4qjK-asMO-"
      }
    },
    {
      "cell_type": "code",
      "source": [
        "set1 = {10, 20, 30}\n",
        "set2 = {20, 40, 50}\n",
        "\n",
        "set1.difference_update(set2)\n",
        "print(set1)"
      ],
      "metadata": {
        "colab": {
          "base_uri": "https://localhost:8080/"
        },
        "id": "qJSI50a7sMO-",
        "outputId": "23edd950-bd87-4745-9092-a282f9a36adb"
      },
      "execution_count": null,
      "outputs": [
        {
          "output_type": "stream",
          "name": "stdout",
          "text": [
            "{10, 30}\n"
          ]
        }
      ]
    },
    {
      "cell_type": "markdown",
      "source": [
        "**Question-44:**\n",
        "\n",
        "Return a set of elements present in Set A or B, but not both. (4)\n",
        "\n",
        "set1 = {10, 20, 30, 40, 50}\n",
        "\n",
        "set2 = {30, 40, 50, 60, 70}"
      ],
      "metadata": {
        "id": "6MYJZ72ZsMSQ"
      }
    },
    {
      "cell_type": "markdown",
      "source": [
        "**Code**"
      ],
      "metadata": {
        "id": "YfU5xkC1sMSQ"
      }
    },
    {
      "cell_type": "code",
      "source": [
        "set1 = {10, 20, 30, 40, 50}\n",
        "set2 = {30, 40, 50, 60, 70}\n",
        "\n",
        "print(set1.symmetric_difference(set2))"
      ],
      "metadata": {
        "colab": {
          "base_uri": "https://localhost:8080/"
        },
        "id": "696WvyEpsMSR",
        "outputId": "690e1265-effc-438a-bbb6-9858d9cfd2b6"
      },
      "execution_count": null,
      "outputs": [
        {
          "output_type": "stream",
          "name": "stdout",
          "text": [
            "{20, 70, 10, 60}\n"
          ]
        }
      ]
    },
    {
      "cell_type": "markdown",
      "source": [
        "**Question-45:**\n",
        "\n",
        "Below are the two lists. Write a Python program to convert them into a dictionary in a way that item from list1 is the key and item from list2 is the value. (4)\n",
        "\n",
        "keys = ['Ten', 'Twenty', 'Thirty']\n",
        "\n",
        "values = [10, 20, 30]"
      ],
      "metadata": {
        "id": "TFoL4OEzsMVf"
      }
    },
    {
      "cell_type": "markdown",
      "source": [
        "**Code**"
      ],
      "metadata": {
        "id": "PP_aBU_asMVf"
      }
    },
    {
      "cell_type": "code",
      "source": [
        "keys = ['Ten', 'Twenty', 'Thirty']\n",
        "values = [10, 20, 30]\n",
        "\n",
        "res_dict = dict(zip(keys, values))\n",
        "print(res_dict)"
      ],
      "metadata": {
        "colab": {
          "base_uri": "https://localhost:8080/"
        },
        "id": "JLOfUYmRsMVf",
        "outputId": "f4c24fcc-2328-4714-a118-bfac74de13eb"
      },
      "execution_count": null,
      "outputs": [
        {
          "output_type": "stream",
          "name": "stdout",
          "text": [
            "{'Ten': 10, 'Twenty': 20, 'Thirty': 30}\n"
          ]
        }
      ]
    },
    {
      "cell_type": "markdown",
      "source": [
        "**Question-46:**\n",
        "\n",
        "Merge two Python dictionaries into one. (4)\n",
        "\n",
        "dict1 = {'Ten': 10, 'Twenty': 20, 'Thirty': 30}\n",
        "\n",
        "dict2 = {'Thirty': 30, 'Fourty': 40, 'Fifty': 50}"
      ],
      "metadata": {
        "id": "qH5KUfkXsMYo"
      }
    },
    {
      "cell_type": "markdown",
      "source": [
        "**Code**"
      ],
      "metadata": {
        "id": "8CDRz4OIsMYp"
      }
    },
    {
      "cell_type": "code",
      "source": [
        "dict1 = {'Ten': 10, 'Twenty': 20, 'Thirty': 30}\n",
        "dict2 = {'Thirty': 30, 'Fourty': 40, 'Fifty': 50}\n",
        "\n",
        "dict3 = {**dict1, **dict2}\n",
        "print(dict3)"
      ],
      "metadata": {
        "colab": {
          "base_uri": "https://localhost:8080/"
        },
        "id": "XxpGUN3BsMYp",
        "outputId": "790e768f-0097-4e82-c8eb-c1c56b4f7dc4"
      },
      "execution_count": null,
      "outputs": [
        {
          "output_type": "stream",
          "name": "stdout",
          "text": [
            "{'Ten': 10, 'Twenty': 20, 'Thirty': 30, 'Fourty': 40, 'Fifty': 50}\n"
          ]
        }
      ]
    },
    {
      "cell_type": "markdown",
      "source": [
        "**Question-47:**\n",
        "\n",
        "Delete a list of keys from a dictionary. (4)\n",
        "\n",
        "sample_dict = {\n",
        "    \"name\": \"Kelly\",\n",
        "    \"age\": 25,\n",
        "    \"salary\": 8000,\n",
        "    \"city\": \"New york\"\n",
        "}\n",
        "\n",
        "Keys to remove\n",
        "keys = [\"name\", \"salary\"]"
      ],
      "metadata": {
        "id": "FNdziFsWsMb9"
      }
    },
    {
      "cell_type": "markdown",
      "source": [
        "**Code**"
      ],
      "metadata": {
        "id": "c8juXzkEsMb-"
      }
    },
    {
      "cell_type": "code",
      "source": [
        "sample_dict = {\n",
        "    \"name\": \"Kelly\",\n",
        "    \"age\": 25,\n",
        "    \"salary\": 8000,\n",
        "    \"city\": \"New york\"\n",
        "}\n",
        "# Keys to remove\n",
        "keys = [\"name\", \"salary\"]\n",
        "\n",
        "for k in keys:\n",
        "    sample_dict.pop(k)\n",
        "print(sample_dict)"
      ],
      "metadata": {
        "colab": {
          "base_uri": "https://localhost:8080/"
        },
        "id": "YR_cR8vnsMb-",
        "outputId": "64150ca9-49db-4a7d-f302-c59d6dbbbf53"
      },
      "execution_count": null,
      "outputs": [
        {
          "output_type": "stream",
          "name": "stdout",
          "text": [
            "{'age': 25, 'city': 'New york'}\n"
          ]
        }
      ]
    },
    {
      "cell_type": "markdown",
      "source": [
        "**Question-48:**\n",
        "\n",
        "Write a program to rename a key 'city' to a 'location' in the following dictionary. (4)\n",
        "\n",
        "sample_dict = {\n",
        "  \"name\": \"Kelly\",\n",
        "  \"age\":25,\n",
        "  \"salary\": 8000,\n",
        "  \"city\": \"New york\"\n",
        "}"
      ],
      "metadata": {
        "id": "lH1mUpq0stBB"
      }
    },
    {
      "cell_type": "markdown",
      "source": [
        "**Code**"
      ],
      "metadata": {
        "id": "JSxqMiNjstBH"
      }
    },
    {
      "cell_type": "code",
      "source": [
        "sample_dict = {\n",
        "    \"name\": \"Kelly\",\n",
        "    \"age\": 25,\n",
        "    \"salary\": 8000,\n",
        "    \"city\": \"New york\"\n",
        "}\n",
        "\n",
        "sample_dict['location'] = sample_dict.pop('city')\n",
        "print(sample_dict)"
      ],
      "metadata": {
        "colab": {
          "base_uri": "https://localhost:8080/"
        },
        "id": "SpAn5tTvstBH",
        "outputId": "824eea09-4277-445a-9bce-20d1ac748678"
      },
      "execution_count": null,
      "outputs": [
        {
          "output_type": "stream",
          "name": "stdout",
          "text": [
            "{'name': 'Kelly', 'age': 25, 'salary': 8000, 'location': 'New york'}\n"
          ]
        }
      ]
    },
    {
      "cell_type": "markdown",
      "source": [
        "**Question-49:**\n",
        "\n",
        "sort the following dictionary by key: (5)\n",
        "\n",
        "dict = {'ravi':'10','rajnish':'9','sanjeev':'15','yash':'2','suraj':'32'}"
      ],
      "metadata": {
        "id": "0CTFdBkpstKV"
      }
    },
    {
      "cell_type": "markdown",
      "source": [
        "**Code**"
      ],
      "metadata": {
        "id": "MQgHypmustKW"
      }
    },
    {
      "cell_type": "code",
      "source": [
        "# Creates a sorted dictionary (sorted by key)\n",
        "from collections import OrderedDict\n",
        " \n",
        "dict = {'ravi':'10','rajnish':'9','sanjeev':'15','yash':'2','suraj':'32'}\n",
        "dict1 = OrderedDict(sorted(dict.items()))\n",
        "print(dict1)"
      ],
      "metadata": {
        "colab": {
          "base_uri": "https://localhost:8080/"
        },
        "id": "Ail8TndFstKW",
        "outputId": "cc4c71aa-ac1d-492e-84f3-95ce1e1f45d2"
      },
      "execution_count": null,
      "outputs": [
        {
          "output_type": "stream",
          "name": "stdout",
          "text": [
            "OrderedDict([('rajnish', '9'), ('ravi', '10'), ('sanjeev', '15'), ('suraj', '32'), ('yash', '2')])\n"
          ]
        }
      ]
    },
    {
      "cell_type": "markdown",
      "source": [
        "**Question-50:**\n",
        "\n",
        "Given a dictionary with nested dictionaries as values, extract all the values with of particular key. (5)\n",
        "\n",
        "sample_dict = {'Gfg' : {\"a\" : 7, \"b\" : 9, \"c\" : 12},\n",
        "             'is' : {\"a\" : 15, \"b\" : 19, \"c\" : 20}, \n",
        "             'best' :{\"a\" : 5, \"b\" : 10, \"c\" : 2}}\n",
        "\n",
        "key = 'c'"
      ],
      "metadata": {
        "id": "8y13klbsstbo"
      }
    },
    {
      "cell_type": "markdown",
      "source": [
        "**Code**"
      ],
      "metadata": {
        "id": "eilBzzk_stbp"
      }
    },
    {
      "cell_type": "code",
      "source": [
        "# initializing dictionary\n",
        "test_dict = {'Gfg' : {\"a\" : 7, \"b\" : 9, \"c\" : 12},\n",
        "             'is' : {\"a\" : 15, \"b\" : 19, \"c\" : 20}, \n",
        "             'best' :{\"a\" : 5, \"b\" : 10, \"c\" : 2}}\n",
        "  \n",
        "# printing original dictionary\n",
        "print(\"The original dictionary is : \" + str(test_dict))\n",
        "  \n",
        "# initializing key\n",
        "temp = \"c\"\n",
        "  \n",
        "# using item() to extract key value pair as whole\n",
        "res = [val[temp] for key, val in test_dict.items() if temp in val]\n",
        "  \n",
        "# printing result \n",
        "print(\"The extracted values : \" + str(res)) "
      ],
      "metadata": {
        "colab": {
          "base_uri": "https://localhost:8080/"
        },
        "id": "UN4QBK0_stbp",
        "outputId": "1ccaa8ba-29cb-4693-a92f-1f19b94d868b"
      },
      "execution_count": null,
      "outputs": [
        {
          "output_type": "stream",
          "name": "stdout",
          "text": [
            "The original dictionary is : {'Gfg': {'a': 7, 'b': 9, 'c': 12}, 'is': {'a': 15, 'b': 19, 'c': 20}, 'best': {'a': 5, 'b': 10, 'c': 2}}\n",
            "The extracted values : [12, 20, 2]\n"
          ]
        }
      ]
    },
    {
      "cell_type": "markdown",
      "source": [
        "## **Sources:**\n",
        "1. https://www.w3resource.com/python-exercises/python-basic-exercises.php\n",
        "2. https://pdfcoffee.com/python-3-400-exercises-and-solutions-for-beginners-by-assad-patel-pdf-pdf-free.html\n",
        "3. https://unc-libraries-data.github.io/Python/Intro/Exercises_Solutions.html#entering_code\n",
        "4. https://pynative.com/python-string-exercise/\n",
        "5. https://www.geeksforgeeks.org/python-string-exercise/\n",
        "\n",
        "\n"
      ],
      "metadata": {
        "id": "WVgFfKstyf9_"
      }
    }
  ]
}